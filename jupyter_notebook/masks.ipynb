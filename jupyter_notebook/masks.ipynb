{
 "cells": [
  {
   "cell_type": "code",
   "execution_count": 1,
   "metadata": {},
   "outputs": [],
   "source": [
    "import numpy as np"
   ]
  },
  {
   "cell_type": "code",
   "execution_count": 10,
   "metadata": {},
   "outputs": [],
   "source": [
    "M = np.array([[0.        , 0.        , 0.        , 0.        ],\n",
    "        [0.        , 0.20833333, 0.10416667, 0.        ],\n",
    "        [0.        , 0.10416667, 0.20833333, 0.        ],\n",
    "        [0.        , 0.        , 0.        , 0.        ]],\n",
    ")"
   ]
  },
  {
   "cell_type": "code",
   "execution_count": 20,
   "metadata": {},
   "outputs": [
    {
     "data": {
      "text/plain": [
       "array([[0.        , 0.        , 0.        , 0.        ],\n",
       "       [0.        , 0.20833333, 0.10416667, 0.        ],\n",
       "       [0.        , 0.10416667, 0.20833333, 0.        ],\n",
       "       [0.        , 0.        , 0.        , 0.        ]])"
      ]
     },
     "execution_count": 20,
     "metadata": {},
     "output_type": "execute_result"
    }
   ],
   "source": [
    "M"
   ]
  },
  {
   "cell_type": "code",
   "execution_count": 25,
   "metadata": {},
   "outputs": [
    {
     "data": {
      "text/plain": [
       "array([[0.20833333, 0.10416667],\n",
       "       [0.10416667, 0.20833333]])"
      ]
     },
     "execution_count": 25,
     "metadata": {},
     "output_type": "execute_result"
    }
   ],
   "source": [
    "M[np.any(M != 0.0, axis=0)][:, np.any(M != 0.0, axis=1)]"
   ]
  },
  {
   "cell_type": "code",
   "execution_count": 17,
   "metadata": {},
   "outputs": [
    {
     "data": {
      "text/plain": [
       "array([[0.        , 0.        ],\n",
       "       [0.20833333, 0.10416667],\n",
       "       [0.10416667, 0.20833333],\n",
       "       [0.        , 0.        ]])"
      ]
     },
     "execution_count": 17,
     "metadata": {},
     "output_type": "execute_result"
    }
   ],
   "source": [
    "M[:, np.any(M != 0.0, axis=0)]"
   ]
  },
  {
   "cell_type": "code",
   "execution_count": 44,
   "metadata": {},
   "outputs": [
    {
     "data": {
      "text/plain": [
       "array([[False, False, False, False],\n",
       "       [False,  True,  True, False],\n",
       "       [False,  True,  True, False],\n",
       "       [False, False, False, False]])"
      ]
     },
     "execution_count": 44,
     "metadata": {},
     "output_type": "execute_result"
    }
   ],
   "source": [
    "mask = (M != 0.)\n",
    "mask"
   ]
  },
  {
   "cell_type": "code",
   "execution_count": 48,
   "metadata": {},
   "outputs": [
    {
     "data": {
      "text/plain": [
       "(array([1, 2], dtype=int64),)"
      ]
     },
     "execution_count": 48,
     "metadata": {},
     "output_type": "execute_result"
    }
   ],
   "source": [
    "sec = np.where(np.any(M, axis=1))\n",
    "sec"
   ]
  },
  {
   "cell_type": "code",
   "execution_count": 51,
   "metadata": {},
   "outputs": [],
   "source": [
    "hbc = np.array([[[1, 0.        , 0.        , 2],\n",
    "        [0.        , 0.        , 0.        , 0.        ],\n",
    "        [0.        , 0.        , 0.        , 0.        ],\n",
    "        [3, 0.        , 0.        , 4]],\n",
    "\n",
    "       [[0.        , 0.        , 0.        , 0.        ],\n",
    "        [0.        , 10, 11, 0.        ],\n",
    "        [0.        , 12, 13, 0.        ],\n",
    "        [0.        , 0.        , 0.        , 0.        ]],\n",
    "\n",
    "       [[0.        , 0.        , 0.        , 0.        ],\n",
    "        [0.        , 0.        , 0.        , 0.        ],\n",
    "        [0.        , 0.        , 50, 60],\n",
    "        [0.        , 0.        , 70, 90]],\n",
    "\n",
    "       [[0.20833333, 0.10416667, 0.        , 0.        ],\n",
    "        [0.10416667, 0.20833333, 0.        , 0.        ],\n",
    "        [0.        , 0.        , 0.        , 0.        ],\n",
    "        [0.        , 0.        , 0.        , 0.        ]]])"
   ]
  },
  {
   "cell_type": "code",
   "execution_count": 55,
   "metadata": {},
   "outputs": [],
   "source": [
    "mask = (hbc != 0)"
   ]
  },
  {
   "cell_type": "code",
   "execution_count": 58,
   "metadata": {},
   "outputs": [
    {
     "data": {
      "text/plain": [
       "array([[[ 1.        ,  2.        ],\n",
       "        [ 3.        ,  4.        ]],\n",
       "\n",
       "       [[10.        , 11.        ],\n",
       "        [12.        , 13.        ]],\n",
       "\n",
       "       [[50.        , 60.        ],\n",
       "        [70.        , 90.        ]],\n",
       "\n",
       "       [[ 0.20833333,  0.10416667],\n",
       "        [ 0.10416667,  0.20833333]]])"
      ]
     },
     "execution_count": 58,
     "metadata": {},
     "output_type": "execute_result"
    }
   ],
   "source": [
    "hbc[mask].reshape(4, 2, 2)"
   ]
  }
 ],
 "metadata": {
  "interpreter": {
   "hash": "63fd5069d213b44bf678585dea6b12cceca9941eaf7f819626cde1f2670de90d"
  },
  "kernelspec": {
   "display_name": "Python 3.9.7 64-bit",
   "language": "python",
   "name": "python3"
  },
  "language_info": {
   "codemirror_mode": {
    "name": "ipython",
    "version": 3
   },
   "file_extension": ".py",
   "mimetype": "text/x-python",
   "name": "python",
   "nbconvert_exporter": "python",
   "pygments_lexer": "ipython3",
   "version": "3.9.7"
  },
  "orig_nbformat": 4
 },
 "nbformat": 4,
 "nbformat_minor": 2
}
