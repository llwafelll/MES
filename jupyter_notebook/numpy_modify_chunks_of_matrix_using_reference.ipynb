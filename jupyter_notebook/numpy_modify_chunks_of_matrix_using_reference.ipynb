{
 "cells": [
  {
   "cell_type": "code",
   "execution_count": 1,
   "source": [
    "import numpy as np"
   ],
   "outputs": [],
   "metadata": {}
  },
  {
   "cell_type": "markdown",
   "source": [
    "<br><hr>\n",
    "<h2>Class definitions</h2>"
   ],
   "metadata": {}
  },
  {
   "cell_type": "code",
   "execution_count": 2,
   "source": [
    "class ArrayCreator:\r\n",
    "    def __init__(self) -> None:\r\n",
    "        # Construct an array\r\n",
    "        a1 = np.arange(1, 5)\r\n",
    "        self.arr = a1[3]*a1[:3][:,np.newaxis] + a1\r\n",
    "        self.arr = np.vstack((a1, self.arr))\r\n",
    "    \r\n",
    "    def get_arr(self) -> np.array:\r\n",
    "        return self.arr"
   ],
   "outputs": [],
   "metadata": {}
  },
  {
   "cell_type": "code",
   "execution_count": 3,
   "source": [
    "class DiagonalManager:\r\n",
    "    def __init__(self, arg_arr) -> None:\r\n",
    "        self.diagonal = arg_arr.get_arr().diagonal()\r\n",
    "        self.diagonal_len = len(self.diagonal)\r\n",
    "        \r\n",
    "        # Set flag to turn off read-only for self.diagonal\r\n",
    "        self.diagonal.flags['WRITEABLE'] = True\r\n",
    "    \r\n",
    "    def get_diagonal(self) -> np.array:\r\n",
    "        return self.diagonal\r\n",
    "    \r\n",
    "    def set_diagonal(self, arg_diagonal: np.array):\r\n",
    "        if len(arg_diagonal) == self.diagonal_len:\r\n",
    "            self.diagonal[:] = arg_diagonal"
   ],
   "outputs": [],
   "metadata": {}
  },
  {
   "cell_type": "markdown",
   "source": [
    "<br><hr>\n",
    "<h2>Program</h2>"
   ],
   "metadata": {}
  },
  {
   "cell_type": "code",
   "execution_count": 4,
   "source": [
    "# Create object taking advantage of the matrix\r\n",
    "M = ArrayCreator()\r\n",
    "M.get_arr()"
   ],
   "outputs": [
    {
     "output_type": "execute_result",
     "data": {
      "text/plain": [
       "array([[ 1,  2,  3,  4],\n",
       "       [ 5,  6,  7,  8],\n",
       "       [ 9, 10, 11, 12],\n",
       "       [13, 14, 15, 16]])"
      ]
     },
     "metadata": {},
     "execution_count": 4
    }
   ],
   "metadata": {}
  },
  {
   "cell_type": "code",
   "execution_count": 5,
   "source": [
    "# Create DiagonalManager instance, print out diagonal\r\n",
    "DM = DiagonalManager(M)\r\n",
    "DM.get_diagonal()"
   ],
   "outputs": [
    {
     "output_type": "execute_result",
     "data": {
      "text/plain": [
       "array([ 1,  6, 11, 16])"
      ]
     },
     "metadata": {},
     "execution_count": 5
    }
   ],
   "metadata": {}
  },
  {
   "cell_type": "code",
   "execution_count": 6,
   "source": [
    "# Test the method that will change diagonal in original matrix - M\r\n",
    "DM.set_diagonal(np.array((11, 22, 33, 44)))"
   ],
   "outputs": [],
   "metadata": {}
  },
  {
   "cell_type": "markdown",
   "source": [
    "<br><hr>\n",
    "<h2>The rest</h2>"
   ],
   "metadata": {}
  },
  {
   "cell_type": "code",
   "execution_count": 9,
   "source": [
    "import sys\r\n",
    "print(sys.version)"
   ],
   "outputs": [
    {
     "output_type": "stream",
     "name": "stdout",
     "text": [
      "3.9.7 (tags/v3.9.7:1016ef3, Aug 30 2021, 20:19:38) [MSC v.1929 64 bit (AMD64)]\n"
     ]
    }
   ],
   "metadata": {
    "scrolled": true
   }
  },
  {
   "cell_type": "code",
   "execution_count": 12,
   "source": [
    "q = M.get_arr()"
   ],
   "outputs": [],
   "metadata": {}
  },
  {
   "cell_type": "code",
   "execution_count": 13,
   "source": [
    "for a in reversed(q):\r\n",
    "    print(a)"
   ],
   "outputs": [
    {
     "output_type": "stream",
     "name": "stdout",
     "text": [
      "[13 14 15 44]\n",
      "[ 9 10 33 12]\n",
      "[ 5 22  7  8]\n",
      "[11  2  3  4]\n"
     ]
    }
   ],
   "metadata": {
    "scrolled": true
   }
  },
  {
   "cell_type": "code",
   "execution_count": 16,
   "source": [
    "_from, _to = 0, 2"
   ],
   "outputs": [],
   "metadata": {
    "scrolled": false
   }
  },
  {
   "cell_type": "code",
   "execution_count": 17,
   "source": [
    "len(q)-_to"
   ],
   "outputs": [
    {
     "output_type": "execute_result",
     "data": {
      "text/plain": [
       "2"
      ]
     },
     "metadata": {},
     "execution_count": 17
    }
   ],
   "metadata": {}
  },
  {
   "cell_type": "code",
   "execution_count": 19,
   "source": [
    "q"
   ],
   "outputs": [
    {
     "output_type": "execute_result",
     "data": {
      "text/plain": [
       "array([[11,  2,  3,  4],\n",
       "       [ 5, 22,  7,  8],\n",
       "       [ 9, 10, 33, 12],\n",
       "       [13, 14, 15, 44]])"
      ]
     },
     "metadata": {},
     "execution_count": 19
    }
   ],
   "metadata": {}
  },
  {
   "cell_type": "code",
   "execution_count": 18,
   "source": [
    "q[len(q)-_to:len(q)-_from, _from:_to]"
   ],
   "outputs": [
    {
     "output_type": "execute_result",
     "data": {
      "text/plain": [
       "array([[ 9, 10],\n",
       "       [13, 14]])"
      ]
     },
     "metadata": {},
     "execution_count": 18
    }
   ],
   "metadata": {}
  }
 ],
 "metadata": {
  "kernelspec": {
   "name": "python3",
   "display_name": "Python 3.9.7 64-bit"
  },
  "language_info": {
   "codemirror_mode": {
    "name": "ipython",
    "version": 3
   },
   "file_extension": ".py",
   "mimetype": "text/x-python",
   "name": "python",
   "nbconvert_exporter": "python",
   "pygments_lexer": "ipython3",
   "version": "3.9.7"
  },
  "interpreter": {
   "hash": "63fd5069d213b44bf678585dea6b12cceca9941eaf7f819626cde1f2670de90d"
  }
 },
 "nbformat": 4,
 "nbformat_minor": 5
}