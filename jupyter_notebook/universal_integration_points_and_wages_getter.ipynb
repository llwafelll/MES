{
 "cells": [
  {
   "cell_type": "code",
   "execution_count": 1,
   "id": "weighted-observation",
   "metadata": {},
   "outputs": [],
   "source": [
    "import numpy as np\n",
    "import itertools as it\n",
    "from numpy.polynomial.legendre import leggauss"
   ]
  },
  {
   "cell_type": "code",
   "execution_count": 2,
   "id": "hollow-worship",
   "metadata": {},
   "outputs": [],
   "source": [
    "def gen_ksi_order(nip):\n",
    "    '''Generates table containing indices for ksi integration points.'''\n",
    "    \n",
    "    g = ((j for j in reversed(range(nip))) if i % 2 else (j for j in range(nip)) for i in range(nip))\n",
    "    return (i for j in g for i in j)\n",
    "\n",
    "def gen_eta_order(nip):\n",
    "    '''Generates table containing indices for eta integration points.'''\n",
    "    \n",
    "    g = ((j for j in [i]*nip) for i in range(nip))\n",
    "    return (i for j in g for i in j)"
   ]
  },
  {
   "cell_type": "code",
   "execution_count": 3,
   "id": "peaceful-continent",
   "metadata": {},
   "outputs": [],
   "source": [
    "def leg_iterator(order):\n",
    "    '''order - ksi order or eta order'''\n",
    "    \n",
    "    def inner_gen(values):\n",
    "        '''values are integration points or wages.'''\n",
    "        \n",
    "        for i in order:\n",
    "            yield values[i]\n",
    "    \n",
    "    return inner_gen"
   ]
  },
  {
   "cell_type": "code",
   "execution_count": 4,
   "id": "comparative-attraction",
   "metadata": {},
   "outputs": [],
   "source": [
    "# Initialize\n",
    "Ln = 3\n",
    "pcs, ws = leggauss(Ln)\n",
    "\n",
    "# Generate order, gen_X_oreder returns generator\n",
    "ksi_order = list(gen_ksi_order(Ln))\n",
    "eta_order = list(gen_eta_order(Ln))\n",
    "\n",
    "# Create functions based on the order\n",
    "get_for_x = leg_iterator(ksi_order)\n",
    "get_for_y = leg_iterator(eta_order)"
   ]
  },
  {
   "cell_type": "code",
   "execution_count": 15,
   "id": "a01349c6",
   "metadata": {},
   "outputs": [
    {
     "data": {
      "text/plain": [
       "[-0.7745966692414834,\n",
       " 0.0,\n",
       " 0.7745966692414834,\n",
       " 0.7745966692414834,\n",
       " 0.0,\n",
       " -0.7745966692414834,\n",
       " -0.7745966692414834,\n",
       " 0.0,\n",
       " 0.7745966692414834]"
      ]
     },
     "execution_count": 15,
     "metadata": {},
     "output_type": "execute_result"
    }
   ],
   "source": [
    "list(get_for_x(pcs))"
   ]
  },
  {
   "cell_type": "code",
   "execution_count": 5,
   "id": "cross-entertainment",
   "metadata": {
    "scrolled": true
   },
   "outputs": [
    {
     "name": "stdout",
     "output_type": "stream",
     "text": [
      "-0.7745966692414834 0.0 0.7745966692414834 0.7745966692414834 0.0 -0.7745966692414834 -0.7745966692414834 0.0 0.7745966692414834\n",
      "0.5555555555555557 0.8888888888888888 0.5555555555555557 0.5555555555555557 0.8888888888888888 0.5555555555555557 0.5555555555555557 0.8888888888888888 0.5555555555555557\n",
      "-0.7745966692414834 -0.7745966692414834 -0.7745966692414834 0.0 0.0 0.0 0.7745966692414834 0.7745966692414834 0.7745966692414834\n",
      "0.5555555555555557 0.5555555555555557 0.5555555555555557 0.8888888888888888 0.8888888888888888 0.8888888888888888 0.5555555555555557 0.5555555555555557 0.5555555555555557\n"
     ]
    }
   ],
   "source": [
    "# pass tables that you want to iterate over using created function\n",
    "print(*get_for_x(pcs))\n",
    "print(*get_for_x(ws))\n",
    "print(*get_for_y(pcs))\n",
    "print(*get_for_y(ws))"
   ]
  },
  {
   "cell_type": "code",
   "execution_count": null,
   "id": "material-hundred",
   "metadata": {},
   "outputs": [],
   "source": []
  },
  {
   "cell_type": "code",
   "execution_count": 6,
   "id": "copyrighted-bidder",
   "metadata": {
    "scrolled": false
   },
   "outputs": [
    {
     "data": {
      "text/plain": [
       "[0, 1, 2, 2, 1, 0, 0, 1, 2]"
      ]
     },
     "execution_count": 6,
     "metadata": {},
     "output_type": "execute_result"
    }
   ],
   "source": [
    "g = ((j for j in reversed(range(3))) if i % 2 else (j for j in range(3)) for i in range(3))\n",
    "[i for j in g for i in j]"
   ]
  },
  {
   "cell_type": "code",
   "execution_count": 7,
   "id": "banner-capacity",
   "metadata": {
    "scrolled": true
   },
   "outputs": [
    {
     "data": {
      "text/plain": [
       "[0, 0, 0, 1, 1, 1, 2, 2, 2]"
      ]
     },
     "execution_count": 7,
     "metadata": {},
     "output_type": "execute_result"
    }
   ],
   "source": [
    "g = ((j for j in [i]*3) for i in range(3))\n",
    "[i for j in g for i in j]"
   ]
  },
  {
   "cell_type": "code",
   "execution_count": 8,
   "id": "accurate-directory",
   "metadata": {},
   "outputs": [
    {
     "name": "stdout",
     "output_type": "stream",
     "text": [
      "<generator object gen_ksi_order.<locals>.<genexpr> at 0x0000018D10B393C0>\n",
      "<generator object gen_eta_order.<locals>.<genexpr> at 0x0000018D10B39350>\n"
     ]
    }
   ],
   "source": [
    "print(gen_ksi_order(4))\n",
    "print(gen_eta_order(4))"
   ]
  }
 ],
 "metadata": {
  "kernelspec": {
   "display_name": "Python 3 (ipykernel)",
   "language": "python",
   "name": "python3"
  },
  "language_info": {
   "codemirror_mode": {
    "name": "ipython",
    "version": 3
   },
   "file_extension": ".py",
   "mimetype": "text/x-python",
   "name": "python",
   "nbconvert_exporter": "python",
   "pygments_lexer": "ipython3",
   "version": "3.9.7"
  }
 },
 "nbformat": 4,
 "nbformat_minor": 5
}
