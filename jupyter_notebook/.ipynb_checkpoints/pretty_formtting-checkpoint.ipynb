{
 "cells": [
  {
   "cell_type": "code",
   "execution_count": 1,
   "metadata": {},
   "outputs": [],
   "source": [
    "f1: float = 3.222332\n",
    "f2: float = 342.340000\n",
    "i1: int = 3"
   ]
  },
  {
   "cell_type": "code",
   "execution_count": 25,
   "metadata": {},
   "outputs": [
    {
     "name": "stdout",
     "output_type": "stream",
     "text": [
      "number 0 = 000003.222\n",
      "number 1 = 000342.340\n",
      "number 2 = 000003.000\n"
     ]
    }
   ],
   "source": [
    "# value:>10.3f - wyrownaj do 10 znakow z lewej (mozna 0 albo nic),\n",
    "# precyzja do 3 miejsc po przecinku\n",
    "for c, value in enumerate((f1, f2, i1)):\n",
    "    print(f\"number {c} = {value:>010.3f}\")"
   ]
  },
  {
   "cell_type": "code",
   "execution_count": 60,
   "metadata": {},
   "outputs": [
    {
     "name": "stdout",
     "output_type": "stream",
     "text": [
      "number 0 = +03.22e+00\n",
      "number 1 = +03.42e+02\n",
      "number 2 = +03.00e+00\n"
     ]
    }
   ],
   "source": [
    "for c, value in enumerate((f1, f2, i1)):\n",
    "    print(f\"number {c} = {value:0=+10,.2e}\")"
   ]
  },
  {
   "cell_type": "code",
   "execution_count": null,
   "metadata": {},
   "outputs": [
    {
     "name": "stdout",
     "output_type": "stream",
     "text": [
      "number 0 = 3.222332\n",
      "number 1 = 342.34\n",
      "number 2 = 3\n"
     ]
    }
   ],
   "source": [
    "for c, value in enumerate((f1, f2, i1)):\n",
    "    print(f\"number {c} = {value}\")"
   ]
  }
 ],
 "metadata": {
  "interpreter": {
   "hash": "63fd5069d213b44bf678585dea6b12cceca9941eaf7f819626cde1f2670de90d"
  },
  "kernelspec": {
   "display_name": "Python 3 (ipykernel)",
   "language": "python",
   "name": "python3"
  },
  "language_info": {
   "codemirror_mode": {
    "name": "ipython",
    "version": 3
   },
   "file_extension": ".py",
   "mimetype": "text/x-python",
   "name": "python",
   "nbconvert_exporter": "python",
   "pygments_lexer": "ipython3",
   "version": "3.9.7"
  }
 },
 "nbformat": 4,
 "nbformat_minor": 2
}
