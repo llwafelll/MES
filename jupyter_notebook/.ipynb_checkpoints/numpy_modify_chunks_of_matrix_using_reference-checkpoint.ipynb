{
 "cells": [
  {
   "cell_type": "code",
   "execution_count": 1,
   "id": "expensive-consistency",
   "metadata": {},
   "outputs": [],
   "source": [
    "import numpy as np"
   ]
  },
  {
   "cell_type": "markdown",
   "id": "chief-effectiveness",
   "metadata": {},
   "source": [
    "<br><hr>\n",
    "<h2>Class definitions</h2>"
   ]
  },
  {
   "cell_type": "code",
   "execution_count": 186,
   "id": "swedish-saturday",
   "metadata": {},
   "outputs": [],
   "source": [
    "class ArrayCreator:\n",
    "    def __init__(self):\n",
    "        a1 = np.arange(1, 5)\n",
    "        self.arr = a1[3]*a1[:3][:,np.newaxis] + a1\n",
    "        self.arr = np.vstack((a1, self.arr))\n",
    "    \n",
    "    def get_arr(self):\n",
    "        return self.arr"
   ]
  },
  {
   "cell_type": "code",
   "execution_count": 216,
   "id": "willing-majority",
   "metadata": {},
   "outputs": [],
   "source": [
    "class DiagonalManager:\n",
    "    def __init__(self, arg_arr):\n",
    "        self.diagonal = arg_arr.get_arr().diagonal()\n",
    "        self.diagonal_len = len(self.diagonal)\n",
    "        \n",
    "        # Set flag to turn off read-only for self.diagonal\n",
    "        self.diagonal.flags['WRITEABLE'] = True\n",
    "    \n",
    "    def get_diagonal(self):\n",
    "        return self.diagonal\n",
    "    \n",
    "    def set_diagonal(self, arg_diagonal):\n",
    "        if len(arg_diagonal) == self.diagonal_len:\n",
    "            self.diagonal[:] = arg_diagonal"
   ]
  },
  {
   "cell_type": "markdown",
   "id": "naughty-donor",
   "metadata": {},
   "source": [
    "<br><hr>\n",
    "<h2>Program</h2>"
   ]
  },
  {
   "cell_type": "code",
   "execution_count": 225,
   "id": "seven-yugoslavia",
   "metadata": {},
   "outputs": [
    {
     "data": {
      "text/plain": [
       "array([[ 1,  2,  3,  4],\n",
       "       [ 5,  6,  7,  8],\n",
       "       [ 9, 10, 11, 12],\n",
       "       [13, 14, 15, 16]])"
      ]
     },
     "execution_count": 225,
     "metadata": {},
     "output_type": "execute_result"
    }
   ],
   "source": [
    "# Create object taking advantage of the matrix\n",
    "M = ArrayCreator()\n",
    "M.get_arr()"
   ]
  },
  {
   "cell_type": "code",
   "execution_count": 226,
   "id": "simplified-combination",
   "metadata": {},
   "outputs": [
    {
     "data": {
      "text/plain": [
       "array([ 1,  6, 11, 16])"
      ]
     },
     "execution_count": 226,
     "metadata": {},
     "output_type": "execute_result"
    }
   ],
   "source": [
    "# Create DiagonalManager instance, print out diagonal\n",
    "DM = DiagonalManager(M)\n",
    "DM.get_diagonal()"
   ]
  },
  {
   "cell_type": "code",
   "execution_count": 227,
   "id": "familiar-dispatch",
   "metadata": {},
   "outputs": [],
   "source": [
    "# Test the method that will change diagonal in original matrix - M\n",
    "DM.set_diagonal(np.array((11, 22, 33, 44)))"
   ]
  },
  {
   "cell_type": "markdown",
   "id": "independent-cattle",
   "metadata": {},
   "source": [
    "<br><hr>\n",
    "<h2>The rest</h2>"
   ]
  },
  {
   "cell_type": "code",
   "execution_count": 198,
   "id": "streaming-african",
   "metadata": {
    "scrolled": true
   },
   "outputs": [
    {
     "ename": "TypeError",
     "evalue": "'ArrayCreator' object does not support item assignment",
     "output_type": "error",
     "traceback": [
      "\u001b[1;31m---------------------------------------------------------------------------\u001b[0m",
      "\u001b[1;31mTypeError\u001b[0m                                 Traceback (most recent call last)",
      "\u001b[1;32m<ipython-input-198-f94780030a7c>\u001b[0m in \u001b[0;36m<module>\u001b[1;34m\u001b[0m\n\u001b[1;32m----> 1\u001b[1;33m \u001b[0mDM\u001b[0m\u001b[1;33m.\u001b[0m\u001b[0mset_sqr\u001b[0m\u001b[1;33m(\u001b[0m\u001b[0mnp\u001b[0m\u001b[1;33m.\u001b[0m\u001b[0marray\u001b[0m\u001b[1;33m(\u001b[0m\u001b[1;33m(\u001b[0m\u001b[1;33m(\u001b[0m\u001b[1;36m10\u001b[0m\u001b[1;33m,\u001b[0m \u001b[1;36m12\u001b[0m\u001b[1;33m)\u001b[0m\u001b[1;33m,\u001b[0m \u001b[1;33m(\u001b[0m\u001b[1;36m323\u001b[0m\u001b[1;33m,\u001b[0m \u001b[1;36m32\u001b[0m\u001b[1;33m)\u001b[0m\u001b[1;33m)\u001b[0m\u001b[1;33m)\u001b[0m\u001b[1;33m)\u001b[0m\u001b[1;33m\u001b[0m\u001b[1;33m\u001b[0m\u001b[0m\n\u001b[0m",
      "\u001b[1;32m<ipython-input-194-1b422d2aedc9>\u001b[0m in \u001b[0;36mset_sqr\u001b[1;34m(self, arg_sqr)\u001b[0m\n\u001b[0;32m     13\u001b[0m \u001b[1;33m\u001b[0m\u001b[0m\n\u001b[0;32m     14\u001b[0m     \u001b[1;32mdef\u001b[0m \u001b[0mset_sqr\u001b[0m\u001b[1;33m(\u001b[0m\u001b[0mself\u001b[0m\u001b[1;33m,\u001b[0m \u001b[0marg_sqr\u001b[0m\u001b[1;33m)\u001b[0m\u001b[1;33m:\u001b[0m\u001b[1;33m\u001b[0m\u001b[1;33m\u001b[0m\u001b[0m\n\u001b[1;32m---> 15\u001b[1;33m         \u001b[0mself\u001b[0m\u001b[1;33m.\u001b[0m\u001b[0marg_arr\u001b[0m\u001b[1;33m[\u001b[0m\u001b[1;33m:\u001b[0m\u001b[1;36m2\u001b[0m\u001b[1;33m,\u001b[0m \u001b[1;33m:\u001b[0m\u001b[1;36m2\u001b[0m\u001b[1;33m]\u001b[0m \u001b[1;33m=\u001b[0m \u001b[0marg_sqr\u001b[0m\u001b[1;33m\u001b[0m\u001b[1;33m\u001b[0m\u001b[0m\n\u001b[0m",
      "\u001b[1;31mTypeError\u001b[0m: 'ArrayCreator' object does not support item assignment"
     ]
    }
   ],
   "source": [
    "DM.set_sqr(np.array(((10, 12), (323, 32))))"
   ]
  },
  {
   "cell_type": "code",
   "execution_count": null,
   "id": "incorporated-toronto",
   "metadata": {},
   "outputs": [],
   "source": []
  }
 ],
 "metadata": {
  "kernelspec": {
   "display_name": "Python 3",
   "language": "python",
   "name": "python3"
  },
  "language_info": {
   "codemirror_mode": {
    "name": "ipython",
    "version": 3
   },
   "file_extension": ".py",
   "mimetype": "text/x-python",
   "name": "python",
   "nbconvert_exporter": "python",
   "pygments_lexer": "ipython3",
   "version": "3.9.7"
  }
 },
 "nbformat": 4,
 "nbformat_minor": 5
}
