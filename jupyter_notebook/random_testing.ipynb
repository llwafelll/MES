{
 "cells": [
  {
   "cell_type": "code",
   "execution_count": null,
   "id": "2cd9105d",
   "metadata": {},
   "outputs": [],
   "source": []
  },
  {
   "cell_type": "code",
   "execution_count": 1,
   "metadata": {},
   "outputs": [],
   "source": [
    "import numpy as np\n",
    "import itertools as it\n",
    "from numpy.polynomial.legendre import leggauss"
   ]
  },
  {
   "cell_type": "code",
   "execution_count": 30,
   "metadata": {},
   "outputs": [
    {
     "data": {
      "text/plain": [
       "array([[1, 2, 3],\n",
       "       [4, 5, 6],\n",
       "       [7, 8, 9]])"
      ]
     },
     "execution_count": 30,
     "metadata": {},
     "output_type": "execute_result"
    }
   ],
   "source": [
    "f = lambda N: np.arange(1, N+1) + np.arange(0, N*N, N)[:, np.newaxis] \n",
    "x = f(3)\n",
    "x"
   ]
  },
  {
   "cell_type": "code",
   "execution_count": 31,
   "metadata": {},
   "outputs": [],
   "source": [
    "d = {'a': 3}"
   ]
  },
  {
   "cell_type": "code",
   "execution_count": 32,
   "metadata": {},
   "outputs": [
    {
     "data": {
      "text/plain": [
       "array([[1]])"
      ]
     },
     "execution_count": 32,
     "metadata": {},
     "output_type": "execute_result"
    }
   ],
   "source": [
    "np.array([1])[np.newaxis]"
   ]
  },
  {
   "cell_type": "code",
   "execution_count": 33,
   "metadata": {},
   "outputs": [
    {
     "data": {
      "text/plain": [
       "array([1, 3])"
      ]
     },
     "execution_count": 33,
     "metadata": {},
     "output_type": "execute_result"
    }
   ],
   "source": [
    "np.arange(1, 4, 2)"
   ]
  },
  {
   "cell_type": "code",
   "execution_count": 34,
   "metadata": {},
   "outputs": [],
   "source": [
    "c1 = it.cycle('ab')"
   ]
  },
  {
   "cell_type": "code",
   "execution_count": 35,
   "metadata": {},
   "outputs": [
    {
     "data": {
      "text/plain": [
       "'a'"
      ]
     },
     "execution_count": 35,
     "metadata": {},
     "output_type": "execute_result"
    }
   ],
   "source": [
    "next(c1)"
   ]
  },
  {
   "cell_type": "code",
   "execution_count": 36,
   "id": "satisfactory-sentence",
   "metadata": {},
   "outputs": [],
   "source": [
    "class ItemManager:\n",
    "    def __init__(self, arg_arr: list[list]):\n",
    "        self.arr: list[list] = arg_arr\n",
    "    \n",
    "    def print_arr(self):\n",
    "        for i in self.arr:\n",
    "            for j in i:\n",
    "                print(j, end=' ')\n",
    "            print()\n",
    "            \n",
    "    def __getitem__(self, pos: tuple):\n",
    "        i, j = pos\n",
    "        return self.arr[i][j]\n",
    "    \n",
    "    "
   ]
  },
  {
   "cell_type": "code",
   "execution_count": 37,
   "id": "ceramic-hello",
   "metadata": {},
   "outputs": [],
   "source": [
    "i1 = ItemManager([[1, 2], [3, 4], [5, 6]])"
   ]
  },
  {
   "cell_type": "code",
   "execution_count": 38,
   "id": "processed-tiger",
   "metadata": {},
   "outputs": [
    {
     "data": {
      "text/plain": [
       "4"
      ]
     },
     "execution_count": 38,
     "metadata": {},
     "output_type": "execute_result"
    }
   ],
   "source": [
    "i1[1, 1]"
   ]
  },
  {
   "cell_type": "code",
   "execution_count": 39,
   "metadata": {},
   "outputs": [],
   "source": [
    "import numpy as np"
   ]
  },
  {
   "cell_type": "code",
   "execution_count": 40,
   "metadata": {},
   "outputs": [],
   "source": [
    "def convert_id_to_coord(arg_id: int, arg_shape: tuple):\n",
    "    x = (arg_id - 1) // (arg_shape[0])\n",
    "    y = (arg_id - 1) % arg_shape[0]\n",
    "    y = ((arg_shape[0] - 1) - y)\n",
    "\n",
    "    return x, y"
   ]
  },
  {
   "cell_type": "code",
   "execution_count": 41,
   "metadata": {},
   "outputs": [
    {
     "data": {
      "text/plain": [
       "(1, 0)"
      ]
     },
     "execution_count": 41,
     "metadata": {},
     "output_type": "execute_result"
    }
   ],
   "source": [
    "convert_id_to_coord(4, (2, 4))"
   ]
  },
  {
   "cell_type": "code",
   "execution_count": 42,
   "metadata": {},
   "outputs": [
    {
     "ename": "NameError",
     "evalue": "name 'leggaus' is not defined",
     "output_type": "error",
     "traceback": [
      "\u001b[1;31m---------------------------------------------------------------------------\u001b[0m",
      "\u001b[1;31mNameError\u001b[0m                                 Traceback (most recent call last)",
      "\u001b[1;32m~\\AppData\\Local\\Temp/ipykernel_26444/2581193878.py\u001b[0m in \u001b[0;36m<module>\u001b[1;34m\u001b[0m\n\u001b[1;32m----> 1\u001b[1;33m \u001b[0mLe\u001b[0m \u001b[1;33m=\u001b[0m \u001b[0mleggaus\u001b[0m\u001b[1;33m(\u001b[0m\u001b[1;36m2\u001b[0m\u001b[1;33m)\u001b[0m\u001b[1;33m\u001b[0m\u001b[1;33m\u001b[0m\u001b[0m\n\u001b[0m",
      "\u001b[1;31mNameError\u001b[0m: name 'leggaus' is not defined"
     ]
    }
   ],
   "source": [
    "Le = leggaus(2)"
   ]
  },
  {
   "cell_type": "code",
   "execution_count": null,
   "metadata": {},
   "outputs": [
    {
     "data": {
      "text/plain": [
       "array([[[ 0.57735027, -0.57735027],\n",
       "        [ 0.57735027, -0.57735027]]])"
      ]
     },
     "execution_count": 16,
     "metadata": {},
     "output_type": "execute_result"
    }
   ],
   "source": [
    "L = leggauss(2)\n",
    "_L = np.vstack((L[0][::-1], L[0][::-1]))[np.newaxis]\n",
    "_L"
   ]
  },
  {
   "cell_type": "code",
   "execution_count": null,
   "metadata": {},
   "outputs": [
    {
     "data": {
      "text/plain": [
       "array([ 0.57735027, -0.57735027])"
      ]
     },
     "execution_count": 5,
     "metadata": {},
     "output_type": "execute_result"
    }
   ],
   "source": [
    "L[0][::-1]"
   ]
  },
  {
   "cell_type": "code",
   "execution_count": null,
   "metadata": {},
   "outputs": [
    {
     "data": {
      "text/plain": [
       "array([-0.57735027, -0.57735027,  0.57735027,  0.57735027])"
      ]
     },
     "execution_count": 34,
     "metadata": {},
     "output_type": "execute_result"
    }
   ],
   "source": [
    "L\n",
    "_L = np.array([L[0][0], L[0][0], L[0][1], L[0][1]])\n",
    "_L"
   ]
  },
  {
   "cell_type": "code",
   "execution_count": null,
   "metadata": {},
   "outputs": [
    {
     "data": {
      "text/plain": [
       "array([-0.57735027,  0.57735027,  0.57735027, -0.57735027])"
      ]
     },
     "execution_count": 36,
     "metadata": {},
     "output_type": "execute_result"
    }
   ],
   "source": [
    "np.hstack((L[0], L[0][::-1])).T"
   ]
  },
  {
   "cell_type": "code",
   "execution_count": null,
   "metadata": {},
   "outputs": [
    {
     "data": {
      "text/plain": [
       "array([20, 30, 40, 50])"
      ]
     },
     "execution_count": 39,
     "metadata": {},
     "output_type": "execute_result"
    }
   ],
   "source": [
    "dd = np.array([10, 10, 10, 10]) * np.array([2, 3, 4, 5])\n",
    "dd"
   ]
  },
  {
   "cell_type": "code",
   "execution_count": null,
   "metadata": {},
   "outputs": [
    {
     "data": {
      "text/plain": [
       "140"
      ]
     },
     "execution_count": 40,
     "metadata": {},
     "output_type": "execute_result"
    }
   ],
   "source": [
    "np.sum(dd)"
   ]
  },
  {
   "cell_type": "code",
   "execution_count": null,
   "metadata": {},
   "outputs": [
    {
     "ename": "TypeError",
     "evalue": "'list' object cannot be interpreted as an integer",
     "output_type": "error",
     "traceback": [
      "\u001b[1;31m---------------------------------------------------------------------------\u001b[0m",
      "\u001b[1;31mTypeError\u001b[0m                                 Traceback (most recent call last)",
      "\u001b[1;32m~\\AppData\\Local\\Temp/ipykernel_7028/367380711.py\u001b[0m in \u001b[0;36m<module>\u001b[1;34m\u001b[0m\n\u001b[1;32m----> 1\u001b[1;33m \u001b[0mnp\u001b[0m\u001b[1;33m.\u001b[0m\u001b[0meye\u001b[0m\u001b[1;33m(\u001b[0m\u001b[1;33m[\u001b[0m\u001b[1;36m1\u001b[0m\u001b[1;33m,\u001b[0m \u001b[1;36m2\u001b[0m\u001b[1;33m,\u001b[0m \u001b[1;36m3\u001b[0m\u001b[1;33m]\u001b[0m\u001b[1;33m)\u001b[0m\u001b[1;33m\u001b[0m\u001b[1;33m\u001b[0m\u001b[0m\n\u001b[0m",
      "\u001b[1;32mC:\\Python39\\lib\\site-packages\\numpy\\lib\\twodim_base.py\u001b[0m in \u001b[0;36meye\u001b[1;34m(N, M, k, dtype, order, like)\u001b[0m\n\u001b[0;32m    207\u001b[0m     \u001b[1;32mif\u001b[0m \u001b[0mM\u001b[0m \u001b[1;32mis\u001b[0m \u001b[1;32mNone\u001b[0m\u001b[1;33m:\u001b[0m\u001b[1;33m\u001b[0m\u001b[1;33m\u001b[0m\u001b[0m\n\u001b[0;32m    208\u001b[0m         \u001b[0mM\u001b[0m \u001b[1;33m=\u001b[0m \u001b[0mN\u001b[0m\u001b[1;33m\u001b[0m\u001b[1;33m\u001b[0m\u001b[0m\n\u001b[1;32m--> 209\u001b[1;33m     \u001b[0mm\u001b[0m \u001b[1;33m=\u001b[0m \u001b[0mzeros\u001b[0m\u001b[1;33m(\u001b[0m\u001b[1;33m(\u001b[0m\u001b[0mN\u001b[0m\u001b[1;33m,\u001b[0m \u001b[0mM\u001b[0m\u001b[1;33m)\u001b[0m\u001b[1;33m,\u001b[0m \u001b[0mdtype\u001b[0m\u001b[1;33m=\u001b[0m\u001b[0mdtype\u001b[0m\u001b[1;33m,\u001b[0m \u001b[0morder\u001b[0m\u001b[1;33m=\u001b[0m\u001b[0morder\u001b[0m\u001b[1;33m)\u001b[0m\u001b[1;33m\u001b[0m\u001b[1;33m\u001b[0m\u001b[0m\n\u001b[0m\u001b[0;32m    210\u001b[0m     \u001b[1;32mif\u001b[0m \u001b[0mk\u001b[0m \u001b[1;33m>=\u001b[0m \u001b[0mM\u001b[0m\u001b[1;33m:\u001b[0m\u001b[1;33m\u001b[0m\u001b[1;33m\u001b[0m\u001b[0m\n\u001b[0;32m    211\u001b[0m         \u001b[1;32mreturn\u001b[0m \u001b[0mm\u001b[0m\u001b[1;33m\u001b[0m\u001b[1;33m\u001b[0m\u001b[0m\n",
      "\u001b[1;31mTypeError\u001b[0m: 'list' object cannot be interpreted as an integer"
     ]
    }
   ],
   "source": [
    "np.eye([1, 2, 3])"
   ]
  },
  {
   "cell_type": "code",
   "execution_count": null,
   "metadata": {},
   "outputs": [],
   "source": [
    "arr = np.array([1, 2, 3, 4])"
   ]
  },
  {
   "cell_type": "code",
   "execution_count": 68,
   "metadata": {},
   "outputs": [],
   "source": [
    "test = [[i for i in range(g*3, g*3+3)] for g in range(3)]"
   ]
  },
  {
   "cell_type": "code",
   "execution_count": 69,
   "id": "709abfa0",
   "metadata": {},
   "outputs": [
    {
     "data": {
      "text/plain": [
       "[[0, 1, 2], [3, 4, 5], [6, 7, 8]]"
      ]
     },
     "execution_count": 69,
     "metadata": {},
     "output_type": "execute_result"
    }
   ],
   "source": [
    "test"
   ]
  },
  {
   "cell_type": "code",
   "execution_count": null,
   "metadata": {},
   "outputs": [
    {
     "name": "stdout",
     "output_type": "stream",
     "text": [
      "0\n",
      "1\n",
      "2\n",
      "3\n",
      "4\n",
      "5\n",
      "6\n",
      "7\n",
      "8\n"
     ]
    }
   ],
   "source": [
    "_ = [print(j) for i in test for j in i]"
   ]
  },
  {
   "cell_type": "code",
   "execution_count": null,
   "metadata": {},
   "outputs": [],
   "source": [
    "x = np.array([[1, 2], [3, 4]])\n",
    "v = np.array([3, 4])"
   ]
  },
  {
   "cell_type": "code",
   "execution_count": null,
   "metadata": {},
   "outputs": [],
   "source": [
    "fillme = np.empty((4, 4, 4), dtype=int)"
   ]
  },
  {
   "cell_type": "code",
   "execution_count": null,
   "metadata": {},
   "outputs": [],
   "source": [
    "vs = np.arange(0, 4*4, 4)[:, np.newaxis] + np.arange(0, 4)"
   ]
  },
  {
   "cell_type": "code",
   "execution_count": null,
   "metadata": {},
   "outputs": [],
   "source": [
    "fillme[0] = vs"
   ]
  },
  {
   "cell_type": "code",
   "execution_count": 46,
   "metadata": {},
   "outputs": [],
   "source": [
    "d = np.arange(0, 4*4, 4)[:, np.newaxis] + np.arange(0, 4)"
   ]
  },
  {
   "cell_type": "code",
   "execution_count": 65,
   "id": "61aed3b6",
   "metadata": {},
   "outputs": [
    {
     "data": {
      "text/plain": [
       "array([[ 5,  1,  2,  5],\n",
       "       [ 4,  6,  6,  7],\n",
       "       [ 8,  5,  5, 11],\n",
       "       [ 6, 13, 14,  6]])"
      ]
     },
     "execution_count": 65,
     "metadata": {},
     "output_type": "execute_result"
    }
   ],
   "source": [
    "d"
   ]
  },
  {
   "cell_type": "code",
   "execution_count": 60,
   "id": "fdbf2c1c",
   "metadata": {},
   "outputs": [
    {
     "data": {
      "text/plain": [
       "array([ 3,  6,  9, 12])"
      ]
     },
     "execution_count": 60,
     "metadata": {},
     "output_type": "execute_result"
    }
   ],
   "source": [
    "_id = d[:, ::-1].diagonal()\n",
    "_id"
   ]
  },
  {
   "cell_type": "code",
   "execution_count": 2,
   "id": "f811ec6f",
   "metadata": {},
   "outputs": [
    {
     "ename": "NameError",
     "evalue": "name 'd' is not defined",
     "output_type": "error",
     "traceback": [
      "\u001b[1;31m---------------------------------------------------------------------------\u001b[0m",
      "\u001b[1;31mNameError\u001b[0m                                 Traceback (most recent call last)",
      "\u001b[1;32m~\\AppData\\Local\\Temp/ipykernel_17296/4260605836.py\u001b[0m in \u001b[0;36m<module>\u001b[1;34m\u001b[0m\n\u001b[1;32m----> 1\u001b[1;33m \u001b[0mnp\u001b[0m\u001b[1;33m.\u001b[0m\u001b[0mfill_diagonal\u001b[0m\u001b[1;33m(\u001b[0m\u001b[0md\u001b[0m\u001b[1;33m[\u001b[0m\u001b[1;33m:\u001b[0m\u001b[1;33m,\u001b[0m \u001b[1;33m:\u001b[0m\u001b[1;33m:\u001b[0m\u001b[1;33m-\u001b[0m\u001b[1;36m1\u001b[0m\u001b[1;33m]\u001b[0m\u001b[1;33m,\u001b[0m \u001b[1;33m[\u001b[0m\u001b[1;36m5\u001b[0m\u001b[1;33m,\u001b[0m \u001b[1;36m6\u001b[0m\u001b[1;33m,\u001b[0m \u001b[1;36m5\u001b[0m\u001b[1;33m,\u001b[0m \u001b[1;36m6\u001b[0m\u001b[1;33m]\u001b[0m\u001b[1;33m)\u001b[0m\u001b[1;33m\u001b[0m\u001b[1;33m\u001b[0m\u001b[0m\n\u001b[0m",
      "\u001b[1;31mNameError\u001b[0m: name 'd' is not defined"
     ]
    }
   ],
   "source": [
    "np.fill_diagonal(d[:, ::-1], [5, 6, 5, 6])"
   ]
  },
  {
   "cell_type": "code",
   "execution_count": 47,
   "id": "5c25a69d",
   "metadata": {},
   "outputs": [],
   "source": [
    "a = np.array([[-31.54700538,  31.54700538,   8.45299462,  -8.45299462],\n",
    "       [-31.54700538,  31.54700538,   8.45299462,  -8.45299462],\n",
    "       [ -8.45299462,   8.45299462,  31.54700538, -31.54700538],\n",
    "       [ -8.45299462,   8.45299462,  31.54700538, -31.54700538]])\n",
    "b = a"
   ]
  },
  {
   "cell_type": "code",
   "execution_count": 59,
   "id": "fd9ee70a",
   "metadata": {},
   "outputs": [
    {
     "data": {
      "text/plain": [
       "array([ -8.45299462,   8.45299462,  31.54700538, -31.54700538])"
      ]
     },
     "execution_count": 59,
     "metadata": {},
     "output_type": "execute_result"
    }
   ],
   "source": [
    "a[-1, :]"
   ]
  },
  {
   "cell_type": "code",
   "execution_count": 54,
   "id": "3da4f118",
   "metadata": {},
   "outputs": [
    {
     "data": {
      "text/plain": [
       "(array([1000.        ,   31.54700538,    8.45299462,   -8.45299462]),\n",
       " array([[-31.54700538,  31.54700538,   8.45299462,  -8.45299462],\n",
       "        [-31.54700538,  31.54700538,   8.45299462,  -8.45299462],\n",
       "        [ -8.45299462,   8.45299462,  31.54700538, -31.54700538],\n",
       "        [ -8.45299462,   8.45299462,  31.54700538, -31.54700538]]))"
      ]
     },
     "execution_count": 54,
     "metadata": {},
     "output_type": "execute_result"
    }
   ],
   "source": [
    "c[0] = 1000\n",
    "c, a"
   ]
  },
  {
   "cell_type": "code",
   "execution_count": 32,
   "id": "5b6b6597",
   "metadata": {},
   "outputs": [
    {
     "data": {
      "text/plain": [
       "array([[ 995.21354845, -995.21354845, -266.66666675,  266.66666675],\n",
       "       [-995.21354845,  995.21354845,  266.66666675, -266.66666675],\n",
       "       [-266.66666675,  266.66666675,   71.45311805,  -71.45311805],\n",
       "       [ 266.66666675, -266.66666675,  -71.45311805,   71.45311805]])"
      ]
     },
     "execution_count": 32,
     "metadata": {},
     "output_type": "execute_result"
    }
   ],
   "source": [
    "b[0][:, np.newaxis] * a[0]"
   ]
  },
  {
   "cell_type": "code",
   "execution_count": 31,
   "id": "eec2d20a",
   "metadata": {},
   "outputs": [],
   "source": [
    "r = it.repeat(False)\n",
    "d = dict(it.zip_longest(['a', 'b', 'c'], (True, False, True), fillvalue=False))"
   ]
  },
  {
   "cell_type": "code",
   "execution_count": 43,
   "id": "be50826e",
   "metadata": {},
   "outputs": [],
   "source": [
    "c[0] = 5"
   ]
  },
  {
   "cell_type": "code",
   "execution_count": 35,
   "id": "69675c24",
   "metadata": {},
   "outputs": [
    {
     "data": {
      "text/plain": [
       "2"
      ]
     },
     "execution_count": 35,
     "metadata": {},
     "output_type": "execute_result"
    }
   ],
   "source": [
    "d\n",
    "len([i for i in d.values() if i])"
   ]
  },
  {
   "cell_type": "code",
   "execution_count": 60,
   "id": "ad40c0e8",
   "metadata": {},
   "outputs": [],
   "source": [
    "i = True"
   ]
  },
  {
   "cell_type": "code",
   "execution_count": 66,
   "id": "0f9bd05f",
   "metadata": {},
   "outputs": [
    {
     "data": {
      "text/plain": [
       "False"
      ]
     },
     "execution_count": 66,
     "metadata": {},
     "output_type": "execute_result"
    }
   ],
   "source": [
    "i &= True\n",
    "i"
   ]
  },
  {
   "cell_type": "code",
   "execution_count": 71,
   "id": "eec2d20a",
   "metadata": {},
   "outputs": [
    {
     "data": {
      "text/plain": [
       "(array([-0.57735027,  0.57735027]), array([1., 1.]))"
      ]
     },
     "execution_count": 71,
     "metadata": {},
     "output_type": "execute_result"
    }
   ],
   "source": [
    "L = leggauss(2)\n",
    "L"
   ]
  },
  {
   "cell_type": "code",
   "execution_count": 72,
   "id": "bbe0f09a",
   "metadata": {},
   "outputs": [
    {
     "data": {
      "text/plain": [
       "array([[0., 0., 0., 0.],\n",
       "       [0., 0., 0., 0.]])"
      ]
     },
     "execution_count": 72,
     "metadata": {},
     "output_type": "execute_result"
    }
   ],
   "source": [
    "np.zeros((2, 4))"
   ]
  },
  {
   "cell_type": "code",
   "execution_count": 82,
   "id": "2631b19e",
   "metadata": {},
   "outputs": [
    {
     "data": {
      "text/plain": [
       "array([ 0.57735027, -0.57735027])"
      ]
     },
     "execution_count": 82,
     "metadata": {},
     "output_type": "execute_result"
    }
   ],
   "source": [
    "L[0]"
   ]
  },
  {
   "cell_type": "code",
   "execution_count": 10,
   "id": "f3cf97b7",
   "metadata": {},
   "outputs": [],
   "source": [
    "class MyCls:\n",
    "    def __init__(self) -> None:\n",
    "        self.one = np.zeros((4, 4))\n",
    "        self.two = np.zeros((4, 4))\n",
    "        self.arr = [self.one, self.two]\n"
   ]
  },
  {
   "cell_type": "code",
   "execution_count": null,
   "id": "17023c4b",
   "metadata": {},
   "outputs": [],
   "source": [
    "o1 = MyCls()\n",
    "o1.two"
   ]
  },
  {
   "cell_type": "code",
   "execution_count": 12,
   "id": "331021f1",
   "metadata": {},
   "outputs": [],
   "source": [
    "s = '''[[-0.39433757  0.39433757  0.10566243 -0.10566243]\n",
    " [-0.10566243  0.10566243  0.39433757 -0.39433757]\n",
    " [-0.10566243  0.10566243  0.39433757 -0.39433757]\n",
    " [-0.39433757  0.39433757  0.10566243 -0.10566243]]'''\n",
    "\n",
    "s2 = '''[[-0.39433757  0.39433757  0.10566243 -0.10566243]\n",
    " [-0.10566243  0.10566243  0.39433757 -0.39433757]\n",
    " [-0.10566243  0.10566243  0.39433757 -0.39433757]\n",
    " [-0.39433757  0.39433757  0.10566243 -0.10566243]]'''"
   ]
  },
  {
   "cell_type": "code",
   "execution_count": 13,
   "id": "5a4e51a3",
   "metadata": {},
   "outputs": [
    {
     "data": {
      "text/plain": [
       "True"
      ]
     },
     "execution_count": 13,
     "metadata": {},
     "output_type": "execute_result"
    }
   ],
   "source": [
    "s == s2"
   ]
  },
  {
   "cell_type": "code",
   "execution_count": 19,
   "id": "56a22402",
   "metadata": {},
   "outputs": [],
   "source": [
    "x = np.array([])"
   ]
  },
  {
   "cell_type": "code",
   "execution_count": 24,
   "id": "50183a60",
   "metadata": {},
   "outputs": [
    {
     "data": {
      "text/plain": [
       "0"
      ]
     },
     "execution_count": 24,
     "metadata": {},
     "output_type": "execute_result"
    }
   ],
   "source": [
    "x.size"
   ]
  },
  {
   "cell_type": "code",
   "execution_count": 23,
   "id": "4e72b341",
   "metadata": {},
   "outputs": [
    {
     "data": {
      "text/plain": [
       "'b'"
      ]
     },
     "execution_count": 23,
     "metadata": {},
     "output_type": "execute_result"
    }
   ],
   "source": [
    "'a' if x.size else 'b'"
   ]
  },
  {
   "cell_type": "code",
   "execution_count": 96,
   "id": "863e9f00",
   "metadata": {},
   "outputs": [],
   "source": [
    "n_nodes = 2, 4\n",
    "_array = np.zeros(n_nodes)"
   ]
  },
  {
   "cell_type": "code",
   "execution_count": 109,
   "id": "8847e40f",
   "metadata": {},
   "outputs": [],
   "source": [
    "arg_nodes = np.array([[3, 4, 23, 33], [50, 20, 1, 2]])\n",
    "for col in range(n_nodes[1]):\n",
    "    for row in reversed(range(n_nodes[0])):\n",
    "        _array[row, col] = arg_nodes[row, col]"
   ]
  },
  {
   "cell_type": "code",
   "execution_count": 115,
   "id": "7da7dc09",
   "metadata": {},
   "outputs": [],
   "source": [
    "arg_nodes = np.array([[3, 4, 23, 33], [50, 20, 1, 2]])\n",
    "for row in range(n_nodes[0]):\n",
    "    for col in range(n_nodes[1]):\n",
    "        _array[row, col] = arg_nodes[row, col]"
   ]
  },
  {
   "cell_type": "code",
   "execution_count": 116,
   "id": "0a21bcf9",
   "metadata": {},
   "outputs": [
    {
     "data": {
      "text/plain": [
       "array([[ 3.,  4., 23., 33.],\n",
       "       [50., 20.,  1.,  2.]])"
      ]
     },
     "execution_count": 116,
     "metadata": {},
     "output_type": "execute_result"
    }
   ],
   "source": [
    "_array"
   ]
  },
  {
   "cell_type": "code",
   "execution_count": 108,
   "id": "1e932af6",
   "metadata": {},
   "outputs": [
    {
     "data": {
      "text/plain": [
       "23.0"
      ]
     },
     "execution_count": 108,
     "metadata": {},
     "output_type": "execute_result"
    }
   ],
   "source": [
    "_array[::-1][1, 2]"
   ]
  },
  {
   "cell_type": "code",
   "execution_count": 80,
   "id": "f3153bcc",
   "metadata": {},
   "outputs": [
    {
     "data": {
      "text/plain": [
       "[2, 1, 0]"
      ]
     },
     "execution_count": 80,
     "metadata": {},
     "output_type": "execute_result"
    }
   ],
   "source": [
    "[i for i in reversed(range(3))]"
   ]
  },
  {
   "cell_type": "code",
   "execution_count": 45,
   "id": "19e148d3",
   "metadata": {},
   "outputs": [
    {
     "name": "stdout",
     "output_type": "stream",
     "text": [
      "[ 3. 50.]\n",
      "[33.  2.]\n",
      "[ 3.  4. 23. 33.]\n",
      "[50. 20.  1.  2.]\n"
     ]
    }
   ],
   "source": [
    "print(_array[:, 0])\n",
    "print(_array[:, -1])\n",
    "print(_array[0, :])\n",
    "print(_array[-1, :])"
   ]
  },
  {
   "cell_type": "code",
   "execution_count": 40,
   "id": "55bd56bd",
   "metadata": {},
   "outputs": [
    {
     "data": {
      "text/plain": [
       "array([[ 3.,  4., 23., 33.],\n",
       "       [50., 20.,  1.,  2.]])"
      ]
     },
     "execution_count": 40,
     "metadata": {},
     "output_type": "execute_result"
    }
   ],
   "source": [
    "_array"
   ]
  },
  {
   "cell_type": "code",
   "execution_count": 121,
   "id": "eb955f2b",
   "metadata": {},
   "outputs": [],
   "source": [
    "is_a = 3\n",
    "is_b = 5\n",
    "ab = [is_a, is_b]"
   ]
  },
  {
   "cell_type": "code",
   "execution_count": 124,
   "id": "a1165d29",
   "metadata": {},
   "outputs": [
    {
     "data": {
      "text/plain": [
       "[3, 5]"
      ]
     },
     "execution_count": 124,
     "metadata": {},
     "output_type": "execute_result"
    }
   ],
   "source": [
    "is_a = 6\n",
    "ab"
   ]
  },
  {
   "cell_type": "code",
   "execution_count": null,
   "id": "f2da7521",
   "metadata": {},
   "outputs": [],
   "source": []
  },
  {
   "cell_type": "code",
   "execution_count": 18,
   "id": "511a9f08",
   "metadata": {},
   "outputs": [],
   "source": [
    "edge = {\n",
    "    \"is_left\": False,\n",
    "    \"is_right\": False,\n",
    "    \"is_top\": False,\n",
    "    \"is_bottom\": False\n",
    "}"
   ]
  },
  {
   "cell_type": "code",
   "execution_count": 19,
   "id": "0d5ad57c",
   "metadata": {},
   "outputs": [
    {
     "data": {
      "text/plain": [
       "True"
      ]
     },
     "execution_count": 19,
     "metadata": {},
     "output_type": "execute_result"
    }
   ],
   "source": [
    "any(edge.values())"
   ]
  },
  {
   "cell_type": "code",
   "execution_count": 11,
   "id": "555d3920",
   "metadata": {},
   "outputs": [],
   "source": [
    "data = {\"is_left\": True}\n",
    "data2 = False, True, True, False\n",
    "def setter(*args, **kwargs):\n",
    "    if kwargs:\n",
    "        for k, v in kwargs.items():\n",
    "            edge[k] = v\n",
    "    \n",
    "    elif args:\n",
    "        for varg, k in zip(args, edge.keys()):\n",
    "            edge[k] = varg\n",
    "    \n",
    "    "
   ]
  },
  {
   "cell_type": "code",
   "execution_count": 12,
   "id": "e5096474",
   "metadata": {},
   "outputs": [
    {
     "ename": "NameError",
     "evalue": "name 'edge' is not defined",
     "output_type": "error",
     "traceback": [
      "\u001b[1;31m---------------------------------------------------------------------------\u001b[0m",
      "\u001b[1;31mNameError\u001b[0m                                 Traceback (most recent call last)",
      "\u001b[1;32m~\\AppData\\Local\\Temp/ipykernel_21860/4269284837.py\u001b[0m in \u001b[0;36m<module>\u001b[1;34m\u001b[0m\n\u001b[1;32m----> 1\u001b[1;33m \u001b[0msetter\u001b[0m\u001b[1;33m(\u001b[0m\u001b[1;33m**\u001b[0m\u001b[0mdata\u001b[0m\u001b[1;33m)\u001b[0m\u001b[1;33m\u001b[0m\u001b[1;33m\u001b[0m\u001b[0m\n\u001b[0m",
      "\u001b[1;32m~\\AppData\\Local\\Temp/ipykernel_21860/4114869851.py\u001b[0m in \u001b[0;36msetter\u001b[1;34m(*args, **kwargs)\u001b[0m\n\u001b[0;32m      4\u001b[0m     \u001b[1;32mif\u001b[0m \u001b[0mkwargs\u001b[0m\u001b[1;33m:\u001b[0m\u001b[1;33m\u001b[0m\u001b[1;33m\u001b[0m\u001b[0m\n\u001b[0;32m      5\u001b[0m         \u001b[1;32mfor\u001b[0m \u001b[0mk\u001b[0m\u001b[1;33m,\u001b[0m \u001b[0mv\u001b[0m \u001b[1;32min\u001b[0m \u001b[0mkwargs\u001b[0m\u001b[1;33m.\u001b[0m\u001b[0mitems\u001b[0m\u001b[1;33m(\u001b[0m\u001b[1;33m)\u001b[0m\u001b[1;33m:\u001b[0m\u001b[1;33m\u001b[0m\u001b[1;33m\u001b[0m\u001b[0m\n\u001b[1;32m----> 6\u001b[1;33m             \u001b[0medge\u001b[0m\u001b[1;33m[\u001b[0m\u001b[0mk\u001b[0m\u001b[1;33m]\u001b[0m \u001b[1;33m=\u001b[0m \u001b[0mv\u001b[0m\u001b[1;33m\u001b[0m\u001b[1;33m\u001b[0m\u001b[0m\n\u001b[0m\u001b[0;32m      7\u001b[0m \u001b[1;33m\u001b[0m\u001b[0m\n\u001b[0;32m      8\u001b[0m     \u001b[1;32melif\u001b[0m \u001b[0margs\u001b[0m\u001b[1;33m:\u001b[0m\u001b[1;33m\u001b[0m\u001b[1;33m\u001b[0m\u001b[0m\n",
      "\u001b[1;31mNameError\u001b[0m: name 'edge' is not defined"
     ]
    }
   ],
   "source": [
    "setter(**data)"
   ]
  },
  {
   "cell_type": "code",
   "execution_count": null,
   "id": "73b258a4",
   "metadata": {},
   "outputs": [],
   "source": [
    "setter(*data2)"
   ]
  },
  {
   "cell_type": "code",
   "execution_count": null,
   "id": "daeb31aa",
   "metadata": {},
   "outputs": [],
   "source": [
    "setter(True, True)"
   ]
  },
  {
   "cell_type": "code",
   "execution_count": null,
   "id": "90323710",
   "metadata": {},
   "outputs": [
    {
     "name": "stdout",
     "output_type": "stream",
     "text": [
      "False True\n"
     ]
    }
   ],
   "source": [
    "setter(is_left=True)"
   ]
  },
  {
   "cell_type": "code",
   "execution_count": null,
   "id": "38ac71a0",
   "metadata": {},
   "outputs": [
    {
     "data": {
      "text/plain": [
       "{'is_left': True, 'is_right': True, 'is_top': False, 'is_bottom': False}"
      ]
     },
     "execution_count": 10,
     "metadata": {},
     "output_type": "execute_result"
    }
   ],
   "source": [
    "edge"
   ]
  },
  {
   "cell_type": "code",
   "execution_count": null,
   "id": "bd13ab37",
   "metadata": {},
   "outputs": [],
   "source": [
    "d = [0, 0, 0, 0]\n",
    "def foo(pos=2):\n",
    "    d[pos] = 1"
   ]
  },
  {
   "cell_type": "code",
   "execution_count": null,
   "id": "6a76f249",
   "metadata": {},
   "outputs": [
    {
     "data": {
      "text/plain": [
       "[False, False, True, False]"
      ]
     },
     "execution_count": 10,
     "metadata": {},
     "output_type": "execute_result"
    }
   ],
   "source": [
    "[True if i == 2 else False for i in range(4)]"
   ]
  },
  {
   "cell_type": "code",
   "execution_count": 20,
   "id": "7f15ba77",
   "metadata": {},
   "outputs": [],
   "source": [
    "s = \"\""
   ]
  },
  {
   "cell_type": "code",
   "execution_count": 24,
   "id": "4ce799a4",
   "metadata": {},
   "outputs": [
    {
     "data": {
      "text/plain": [
       "'ab'"
      ]
     },
     "execution_count": 24,
     "metadata": {},
     "output_type": "execute_result"
    }
   ],
   "source": [
    "s"
   ]
  },
  {
   "cell_type": "code",
   "execution_count": 23,
   "id": "490572af",
   "metadata": {},
   "outputs": [],
   "source": [
    "s += 'b'"
   ]
  }
 ],
 "metadata": {
  "interpreter": {
   "hash": "63fd5069d213b44bf678585dea6b12cceca9941eaf7f819626cde1f2670de90d"
  },
  "kernelspec": {
   "display_name": "Python 3.9.7 64-bit",
   "name": "python3"
  },
  "language_info": {
   "codemirror_mode": {
    "name": "ipython",
    "version": 3
   },
   "file_extension": ".py",
   "mimetype": "text/x-python",
   "name": "python",
   "nbconvert_exporter": "python",
   "pygments_lexer": "ipython3",
   "version": "3.9.7"
  }
 },
 "nbformat": 4,
 "nbformat_minor": 5
}
