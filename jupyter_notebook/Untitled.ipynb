{
 "cells": [
  {
   "cell_type": "code",
   "execution_count": 13,
   "id": "satisfactory-sentence",
   "metadata": {},
   "outputs": [],
   "source": [
    "class ItemManager:\n",
    "    def __init__(self, arg_arr: list[list]):\n",
    "        self.arr: list[list] = arg_arr\n",
    "    \n",
    "    def print_arr(self):\n",
    "        for i in self.arr:\n",
    "            for j in i:\n",
    "                print(j, end=' ')\n",
    "            print()\n",
    "            \n",
    "    def __getitem__(self, pos: tuple):\n",
    "        i, j = pos\n",
    "        return self.arr[i][j]\n",
    "    \n",
    "    "
   ]
  },
  {
   "cell_type": "code",
   "execution_count": 14,
   "id": "ceramic-hello",
   "metadata": {},
   "outputs": [],
   "source": [
    "i1 = ItemManager([[1, 2], [3, 4], [5, 6]])"
   ]
  },
  {
   "cell_type": "code",
   "execution_count": 15,
   "id": "processed-tiger",
   "metadata": {},
   "outputs": [
    {
     "data": {
      "text/plain": [
       "4"
      ]
     },
     "execution_count": 15,
     "metadata": {},
     "output_type": "execute_result"
    }
   ],
   "source": [
    "i1[1, 1]"
   ]
  }
 ],
 "metadata": {
  "kernelspec": {
   "display_name": "Python 3",
   "language": "python",
   "name": "python3"
  },
  "language_info": {
   "codemirror_mode": {
    "name": "ipython",
    "version": 3
   },
   "file_extension": ".py",
   "mimetype": "text/x-python",
   "name": "python",
   "nbconvert_exporter": "python",
   "pygments_lexer": "ipython3",
   "version": "3.9.7"
  }
 },
 "nbformat": 4,
 "nbformat_minor": 5
}
