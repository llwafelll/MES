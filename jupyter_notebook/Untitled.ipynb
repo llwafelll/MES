{
 "cells": [
  {
   "cell_type": "code",
   "execution_count": 13,
   "id": "satisfactory-sentence",
   "metadata": {},
   "outputs": [],
   "source": [
    "class ItemManager:\n",
    "    def __init__(self, arg_arr: list[list]):\n",
    "        self.arr: list[list] = arg_arr\n",
    "    \n",
    "    def print_arr(self):\n",
    "        for i in self.arr:\n",
    "            for j in i:\n",
    "                print(j, end=' ')\n",
    "            print()\n",
    "            \n",
    "    def __getitem__(self, pos: tuple):\n",
    "        i, j = pos\n",
    "        return self.arr[i][j]\n",
    "    \n",
    "    "
   ]
  },
  {
   "cell_type": "code",
   "execution_count": 14,
   "id": "ceramic-hello",
   "metadata": {},
   "outputs": [],
   "source": [
    "i1 = ItemManager([[1, 2], [3, 4], [5, 6]])"
   ]
  },
  {
   "cell_type": "code",
   "execution_count": 15,
   "id": "processed-tiger",
   "metadata": {},
   "outputs": [
    {
     "data": {
      "text/plain": [
       "4"
      ]
     },
     "execution_count": 15,
     "metadata": {},
     "output_type": "execute_result"
    }
   ],
   "source": [
    "i1[1, 1]"
   ]
  },
  {
   "cell_type": "code",
   "execution_count": 1,
   "metadata": {},
   "outputs": [],
   "source": [
    "import numpy as np"
   ]
  },
  {
   "cell_type": "code",
   "execution_count": 7,
   "metadata": {},
   "outputs": [],
   "source": [
    "def convert_id_to_coord(arg_id: int, arg_shape: tuple):\n",
    "    x = (arg_id - 1) // (arg_shape[0])\n",
    "    y = (arg_id - 1) % arg_shape[0]\n",
    "    y = ((arg_shape[0] - 1) - y)\n",
    "\n",
    "    return x, y"
   ]
  },
  {
   "cell_type": "code",
   "execution_count": 13,
   "metadata": {},
   "outputs": [
    {
     "data": {
      "text/plain": [
       "(1, 0)"
      ]
     },
     "execution_count": 13,
     "metadata": {},
     "output_type": "execute_result"
    }
   ],
   "source": [
    "convert_id_to_coord(4, (2, 4))"
   ]
  }
 ],
 "metadata": {
  "interpreter": {
   "hash": "63fd5069d213b44bf678585dea6b12cceca9941eaf7f819626cde1f2670de90d"
  },
  "kernelspec": {
   "display_name": "Python 3.9.7 64-bit",
   "name": "python3"
  },
  "language_info": {
   "codemirror_mode": {
    "name": "ipython",
    "version": 3
   },
   "file_extension": ".py",
   "mimetype": "text/x-python",
   "name": "python",
   "nbconvert_exporter": "python",
   "pygments_lexer": "ipython3",
   "version": "3.9.7"
  }
 },
 "nbformat": 4,
 "nbformat_minor": 5
}
